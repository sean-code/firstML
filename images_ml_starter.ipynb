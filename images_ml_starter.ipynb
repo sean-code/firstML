{
 "cells": [
  {
   "cell_type": "markdown",
   "id": "5ad5e0f0",
   "metadata": {},
   "source": [
    "\n",
    "# Images ML Starter Notebook\n",
    "\n",
    "This notebook helps verify your setup and gives you a tiny starting point for image handling and (optionally) a basic dataset loader.\n",
    "\n",
    "**How to use**\n",
    "1. Make a virtual environment and install the packages in `requirements_images_ml.txt`.\n",
    "2. Start JupyterLab and open this notebook.\n",
    "3. Drop one image at `data/sample.jpg` to test the display cell, or change the path.\n",
    "4. If you want to use PyTorch + torchvision, install them and re-run the \"Check packages\" cell.\n"
   ]
  },
  {
   "cell_type": "code",
   "execution_count": 14,
   "id": "afe6cc5f-bbf3-43c8-9e9c-67c2f9b026d6",
   "metadata": {},
   "outputs": [],
   "source": [
    "# import sys, subprocess\n",
    "# subprocess.check_call([sys.executable, \"-m\", \"pip\", \"install\", \"--upgrade\", \"pip\", \"setuptools\", \"wheel\"])\n",
    "# subprocess.check_call([sys.executable, \"-m\", \"pip\", \"install\",\n",
    "#     \"pandas\", \"matplotlib\", \"scikit-learn\", \"opencv-python\", \"scikit-image\", \"tqdm\"])\n"
   ]
  },
  {
   "cell_type": "code",
   "execution_count": 12,
   "id": "54462751",
   "metadata": {
    "editable": true,
    "slideshow": {
     "slide_type": ""
    },
    "tags": []
   },
   "outputs": [
    {
     "name": "stdout",
     "output_type": "stream",
     "text": [
      "Python: 3.10.12 (main, Aug 15 2025, 14:32:43) [GCC 11.4.0]\n",
      "numpy: 2.1.2\n",
      "pandas: 2.3.2\n",
      "matplotlib: 3.10.6\n",
      "sklearn: 1.7.2\n",
      "PIL: 11.0.0\n",
      "cv2: 4.12.0\n",
      "skimage: 0.25.2\n",
      "torch: 2.8.0+cpu\n",
      "torchvision: 0.23.0+cpu\n",
      "CUDA available: False\n"
     ]
    }
   ],
   "source": [
    "\n",
    "# Check your Python & key packages\n",
    "import sys, subprocess\n",
    "\n",
    "def version_of(pkg):\n",
    "    try:\n",
    "        mod = __import__(pkg)\n",
    "        v = getattr(mod, \"__version__\", \"unknown\")\n",
    "        print(f\"{pkg}: {v}\")\n",
    "    except Exception as e:\n",
    "        print(f\"{pkg}: NOT INSTALLED ({e.__class__.__name__}: {e})\")\n",
    "\n",
    "print(\"Python:\", sys.version)\n",
    "for pkg in [\"numpy\",\"pandas\",\"matplotlib\",\"sklearn\",\"PIL\",\"cv2\",\"skimage\"]:\n",
    "    version_of(pkg)\n",
    "\n",
    "# Optional DL stack\n",
    "for pkg in [\"torch\",\"torchvision\"]:\n",
    "    version_of(pkg)\n",
    "\n",
    "try:\n",
    "    import torch\n",
    "    print(\"CUDA available:\", torch.cuda.is_available())\n",
    "except Exception:\n",
    "    pass\n"
   ]
  },
  {
   "cell_type": "code",
   "execution_count": 15,
   "id": "15bfc17c",
   "metadata": {},
   "outputs": [
    {
     "name": "stdout",
     "output_type": "stream",
     "text": [
      "Folders ready: ['.git', '.ipynb_checkpoints', 'data', 'notebooks', 'src']\n"
     ]
    }
   ],
   "source": [
    "\n",
    "# Create a simple project structure (safe to re-run)\n",
    "from pathlib import Path\n",
    "for p in [\n",
    "    Path(\"data/train\"),\n",
    "    Path(\"data/valid\"),\n",
    "    Path(\"notebooks\"),\n",
    "    Path(\"src\"),\n",
    "]:\n",
    "    p.mkdir(parents=True, exist_ok=True)\n",
    "print(\"Folders ready:\", [str(p) for p in Path(\".\").glob(\"*\") if p.is_dir()])\n"
   ]
  },
  {
   "cell_type": "code",
   "execution_count": 16,
   "id": "2a0cc2a8",
   "metadata": {},
   "outputs": [
    {
     "name": "stdout",
     "output_type": "stream",
     "text": [
      "Place an image at data/sample.jpg (or change img_path) and re-run.\n"
     ]
    }
   ],
   "source": [
    "\n",
    "# Display a single image with Pillow + matplotlib\n",
    "from pathlib import Path\n",
    "from PIL import Image\n",
    "import matplotlib.pyplot as plt\n",
    "\n",
    "img_path = Path(\"data/sample.jpg\")  # update this to your own image path\n",
    "if not img_path.exists():\n",
    "    print(\"Place an image at data/sample.jpg (or change img_path) and re-run.\")\n",
    "else:\n",
    "    img = Image.open(img_path).convert(\"RGB\")\n",
    "    print(\"Image size:\", img.size)\n",
    "    plt.figure()\n",
    "    plt.imshow(img)\n",
    "    plt.axis(\"off\")\n",
    "    plt.show()\n"
   ]
  },
  {
   "cell_type": "markdown",
   "id": "70c762b0",
   "metadata": {},
   "source": [
    "\n",
    "## (Optional) Quick image dataset loader with torchvision\n",
    "\n",
    "If you installed `torch` and `torchvision`, the next cell shows how to point to a folder of images arranged like:\n",
    "\n",
    "```\n",
    "data/train/\n",
    "  class_a/ img001.jpg ...\n",
    "  class_b/ ...\n",
    "data/valid/\n",
    "  class_a/ ...\n",
    "  class_b/ ...\n",
    "```\n"
   ]
  },
  {
   "cell_type": "code",
   "execution_count": 17,
   "id": "f5ecc762",
   "metadata": {
    "editable": true,
    "slideshow": {
     "slide_type": ""
    },
    "tags": []
   },
   "outputs": [
    {
     "ename": "SyntaxError",
     "evalue": "unterminated string literal (detected at line 23) (117950466.py, line 23)",
     "output_type": "error",
     "traceback": [
      "\u001b[0;36m  Cell \u001b[0;32mIn[17], line 23\u001b[0;36m\u001b[0m\n\u001b[0;31m    print(\"To install CPU-only wheels:\u001b[0m\n\u001b[0m          ^\u001b[0m\n\u001b[0;31mSyntaxError\u001b[0m\u001b[0;31m:\u001b[0m unterminated string literal (detected at line 23)\n"
     ]
    }
   ],
   "source": [
    "\n",
    "# ImageFolder demo (requires torchvision)\n",
    "try:\n",
    "    import torch\n",
    "    from torchvision import datasets, transforms\n",
    "    from torch.utils.data import DataLoader\n",
    "\n",
    "    transform = transforms.Compose([\n",
    "        transforms.Resize((224,224)),\n",
    "        transforms.ToTensor(),\n",
    "    ])\n",
    "\n",
    "    train_ds = datasets.ImageFolder(\"data/train\", transform=transform)\n",
    "    valid_ds = datasets.ImageFolder(\"data/valid\", transform=transform)\n",
    "\n",
    "    print(\"Classes:\", train_ds.classes)\n",
    "    print(\"Train samples:\", len(train_ds), \"| Valid samples:\", len(valid_ds))\n",
    "\n",
    "    train_loader = DataLoader(train_ds, batch_size=8, shuffle=True)\n",
    "    images, labels = next(iter(train_loader))\n",
    "    print(\"Batch tensor shape:\", images.shape, \"| labels:\", labels.tolist())\n",
    "except Exception as e:\n",
    "    print(\"torch/torchvision not ready:\", e)\n",
    "    print(\"To install CPU-only wheels:\n",
    "  pip install --upgrade pip\n",
    "  pip install torch torchvision --index-url https://download.pytorch.org/whl/cpu\")\n"
   ]
  },
  {
   "cell_type": "code",
   "execution_count": null,
   "id": "72b1d969-7819-4958-8139-04ca491fd2a6",
   "metadata": {},
   "outputs": [],
   "source": []
  }
 ],
 "metadata": {
  "kernelspec": {
   "display_name": "Python 3 (ipykernel)",
   "language": "python",
   "name": "python3"
  },
  "language_info": {
   "codemirror_mode": {
    "name": "ipython",
    "version": 3
   },
   "file_extension": ".py",
   "mimetype": "text/x-python",
   "name": "python",
   "nbconvert_exporter": "python",
   "pygments_lexer": "ipython3",
   "version": "3.10.12"
  }
 },
 "nbformat": 4,
 "nbformat_minor": 5
}
